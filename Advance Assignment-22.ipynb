{
 "cells": [
  {
   "cell_type": "markdown",
   "id": "cba631dc",
   "metadata": {},
   "source": [
    "# Advance Assignment-22"
   ]
  },
  {
   "cell_type": "code",
   "execution_count": 1,
   "id": "5addffc9",
   "metadata": {},
   "outputs": [],
   "source": [
    "# Q1. What are the benefits of the built-in array package, if any?"
   ]
  },
  {
   "cell_type": "code",
   "execution_count": null,
   "id": "5f312b0f",
   "metadata": {},
   "outputs": [],
   "source": [
    "# Ans;\n",
    "\n",
    "Arrays represent multiple data items of the same type using a single name. \n",
    "In arrays, the elements can be accessed randomly by using the index number. \n",
    "Arrays allocate memory in contiguous memory locations for all its elements. \n",
    "Hence, there is no chance of extra memory being allocated in case of arrays. \n",
    "This avoids memory overflow or shortage of memory in arrays.\n",
    "\n",
    "Lists and NumPy Arrays usually are much better alternatives.\n",
    "That’s also the reason why rarely people knows Python has a built-in Array type.\n",
    "\n",
    "However, when something is restricted, it must bring some benefits. \n",
    "That is the so-call “trade-off”. \n",
    "In this case, Python Array will have a smaller size than Python List. This is demonstrated below."
   ]
  },
  {
   "cell_type": "code",
   "execution_count": 2,
   "id": "4499aa90",
   "metadata": {},
   "outputs": [
    {
     "data": {
      "text/plain": [
       "800040"
      ]
     },
     "execution_count": 2,
     "metadata": {},
     "output_type": "execute_result"
    }
   ],
   "source": [
    "from array import array\n",
    "list_large = list(range(0, 100000))\n",
    "arr_large = array('I', list_large)\n",
    "\n",
    "arr_large.__sizeof__()  #Size comes out to be 400064\n",
    "list_large.__sizeof__() #Size comes out to be 900088"
   ]
  },
  {
   "cell_type": "code",
   "execution_count": 3,
   "id": "3777be61",
   "metadata": {},
   "outputs": [
    {
     "name": "stdout",
     "output_type": "stream",
     "text": [
      "array('i', [1, 2, 3, 4])\n"
     ]
    }
   ],
   "source": [
    "#Using Built in Array\n",
    "\n",
    "import array as built_in\n",
    "array1 = built_in.array('i', [1, 2])\n",
    "array1.append(3)\n",
    "array1.append(4)\n",
    "print(array1)"
   ]
  },
  {
   "cell_type": "code",
   "execution_count": 4,
   "id": "396a057a",
   "metadata": {},
   "outputs": [],
   "source": [
    "# Q2. What are some of the array package's limitations ?"
   ]
  },
  {
   "cell_type": "code",
   "execution_count": null,
   "id": "1552014a",
   "metadata": {},
   "outputs": [],
   "source": [
    "# Ans;\n",
    "\n",
    "1. The number of elements to be stored in an array should be known in advance.\n",
    "   An array is a static structure (which means the array is of fixed size).\n",
    "   Once declared the size of the array cannot be modified. \n",
    "   The memory which is allocated to it cannot be increased or decreased.\n",
    "\n",
    "2. Insertion and deletion are quite difficult in an array as the elements are stored in consecutive memory locations and the shifting operation is costly.\n",
    "\n",
    "3. Allocating more memory than the requirement leads to wastage of memory space and less allocation of memory also leads to a problem."
   ]
  },
  {
   "cell_type": "code",
   "execution_count": 5,
   "id": "ea5d9c72",
   "metadata": {},
   "outputs": [],
   "source": [
    "# Q3. Describe the main differences between the array and numpy packages ?"
   ]
  },
  {
   "cell_type": "code",
   "execution_count": null,
   "id": "7b3b5b6f",
   "metadata": {},
   "outputs": [],
   "source": [
    "# Ans;\n",
    "\n",
    "The array package doesn't provide any help with numerical calculation with the items insdie it in number form while NumPy give you a wide variety of numerical operations.\n",
    "\n",
    "An array is a single dimensional entity which hold the numerical data, while numpy can have more than 1 dimension.\n",
    "\n",
    "In case of array, item can be accessed by its index position and it is easy task while in numpy item is accessed by its column and row index, which makes it slightly time taking. Same goes with appending operation.\n",
    "\n",
    "In case of array we do not form a tabular structure, while in numpy it forms a tabular structure"
   ]
  },
  {
   "cell_type": "code",
   "execution_count": null,
   "id": "b47c54b0",
   "metadata": {},
   "outputs": [],
   "source": [
    "# Q4. Explain the distinctions between the empty, ones, and zeros functions ?"
   ]
  },
  {
   "cell_type": "code",
   "execution_count": null,
   "id": "2c1035c3",
   "metadata": {},
   "outputs": [],
   "source": [
    "# Ans;\n",
    "\n",
    "Empty function: An empty function is a function that does not contain any statement within its body. If you try to write a function definition without any statement in python ,it will return an error. To avoid this, we use pass statement. pass is a special statement in Python that does nothing. It only works as a dummy statement.\n",
    "Ones: This function returns a new array of given shape and data type, where the element’s value is 1.\n",
    "Zeros: This function returns a new array of given shape and data type, where the element’s value is 0."
   ]
  },
  {
   "cell_type": "code",
   "execution_count": 6,
   "id": "0e141192",
   "metadata": {},
   "outputs": [],
   "source": [
    "# Q5. In the fromfunction function, which is used to construct new arrays, what is the role of the callable argument ?"
   ]
  },
  {
   "cell_type": "code",
   "execution_count": null,
   "id": "cf7a06aa",
   "metadata": {},
   "outputs": [],
   "source": [
    "# Ans;\n",
    "\n",
    "Its function is to execute the function over each coordinate and the resulting array. \n",
    "The function is called with N parameters, where N is the rank of shape. \n",
    "Each parameter represents the coordinates of the array varying along a specific axis."
   ]
  },
  {
   "cell_type": "code",
   "execution_count": 7,
   "id": "143fed71",
   "metadata": {},
   "outputs": [],
   "source": [
    "# Q6. What happens when a numpy array is combined with a single-value operand (a scalar, such as an int or a floating-point value) through addition, as in the expression A + n ?"
   ]
  },
  {
   "cell_type": "code",
   "execution_count": null,
   "id": "ca7ecd48",
   "metadata": {},
   "outputs": [],
   "source": [
    "# Ans;\n",
    "\n",
    "If any scaler value such as integer is added to the numpy array then all the elements inside the array will add that value in it."
   ]
  },
  {
   "cell_type": "code",
   "execution_count": 8,
   "id": "2cba4f7f",
   "metadata": {},
   "outputs": [],
   "source": [
    "# Q7. Can array-to-scalar operations use combined operation-assign operators (such as += or *=)? What is the outcome ?"
   ]
  },
  {
   "cell_type": "code",
   "execution_count": null,
   "id": "d16a2933",
   "metadata": {},
   "outputs": [],
   "source": [
    "# Ans;\n",
    "\n",
    "It will carry out provided operation on all elements of array."
   ]
  },
  {
   "cell_type": "code",
   "execution_count": 9,
   "id": "2f7c907e",
   "metadata": {},
   "outputs": [],
   "source": [
    "# Q8. Does a numpy array contain fixed-length strings? What happens if you allocate a longer string to one of these arrays ?"
   ]
  },
  {
   "cell_type": "code",
   "execution_count": null,
   "id": "297c7f99",
   "metadata": {},
   "outputs": [],
   "source": [
    "# Ans;\n",
    "\n",
    "Yes, it is possible that we can include a string of fixed length in numpy array.\n",
    "The dtype of any numpy array containing string values is the maximum length of any string present in the array.\n",
    "Once set, it will only be able to store new string having length not more than the maximum length at the time of the creation. \n",
    "If we try to reassign some another string value having length greater than the maximum length of the existing elements, it simply discards all the values beyond the maximum length accept upto those values which are under the limit."
   ]
  },
  {
   "cell_type": "code",
   "execution_count": 10,
   "id": "bdae3b1e",
   "metadata": {},
   "outputs": [],
   "source": [
    "# Q9. What happens when you combine two numpy arrays using an operation like addition (+) or multiplication (*)? \n",
    "#     What are the conditions for combining two numpy arrays ?"
   ]
  },
  {
   "cell_type": "code",
   "execution_count": null,
   "id": "598dc54a",
   "metadata": {},
   "outputs": [],
   "source": [
    "# Ans;\n",
    "\n",
    " It will simply add or multiply element to element at same position."
   ]
  },
  {
   "cell_type": "code",
   "execution_count": 11,
   "id": "78968e52",
   "metadata": {},
   "outputs": [],
   "source": [
    "# Q10. What is the best way to use a Boolean array to mask another array ?"
   ]
  },
  {
   "cell_type": "code",
   "execution_count": null,
   "id": "c23287ca",
   "metadata": {},
   "outputs": [],
   "source": [
    "# Ans;\n",
    "The best way to use a Boolean array to mask another array is by Using masked_where of numpy package."
   ]
  },
  {
   "cell_type": "code",
   "execution_count": 12,
   "id": "38a4e974",
   "metadata": {},
   "outputs": [],
   "source": [
    "# Q11. What are three different ways to get the standard deviation of a wide collection of data using both standard Python and its packages? \n",
    "#     Sort the three of them by how quickly they execute ?\n"
   ]
  },
  {
   "cell_type": "code",
   "execution_count": null,
   "id": "744762e6",
   "metadata": {},
   "outputs": [],
   "source": [
    "# Ans;\n",
    "\n",
    "std() from Numpy package, stdev() from Statistics package and the third way is to write our own code as done with the help of math package below:"
   ]
  },
  {
   "cell_type": "code",
   "execution_count": 15,
   "id": "4a2aa849",
   "metadata": {},
   "outputs": [
    {
     "name": "stdout",
     "output_type": "stream",
     "text": [
      "Standard Deviation of the sample is 17.56337730114064 \n"
     ]
    }
   ],
   "source": [
    "import numpy as np #for declaring an array\n",
    " \n",
    "def mean(data):\n",
    "  n = len(data)\n",
    "  mean = sum(data) / n\n",
    "  return mean\n",
    " \n",
    "def variance(data):\n",
    "  n = len(data)\n",
    "  mean = sum(data) / n\n",
    "  deviations = [(x - mean) ** 2 for x in data]\n",
    "  variance = sum(deviations) / n\n",
    "  return variance\n",
    " \n",
    "def stdev(data):\n",
    "  import math\n",
    "  var = variance(data)\n",
    "  std_dev = math.sqrt(var)\n",
    "  return std_dev\n",
    " \n",
    "data = np.array([7,5,4,9,12,54])\n",
    "print(\"Standard Deviation of the sample is % s \"% (stdev(data))) "
   ]
  },
  {
   "cell_type": "code",
   "execution_count": 16,
   "id": "84886b7d",
   "metadata": {},
   "outputs": [],
   "source": [
    "# Q12. What is the dimensionality of a Boolean mask-generated array ?"
   ]
  },
  {
   "cell_type": "code",
   "execution_count": null,
   "id": "071b25bb",
   "metadata": {},
   "outputs": [],
   "source": [
    "# Ans;\n",
    "\n",
    "It will have same dimensionality as input array. \n",
    "Masking comes up when we want to extract, modify, count, or otherwise manipulate values in an array based on some criterion:\n",
    "for example, we might wish to count all values greater than a certain value, or perhaps remove all outliers that are above some threshold. \n",
    "\n",
    "In NumPy, Boolean masking is often the most efficient way to accomplish these types of tasks."
   ]
  }
 ],
 "metadata": {
  "kernelspec": {
   "display_name": "Python 3 (ipykernel)",
   "language": "python",
   "name": "python3"
  },
  "language_info": {
   "codemirror_mode": {
    "name": "ipython",
    "version": 3
   },
   "file_extension": ".py",
   "mimetype": "text/x-python",
   "name": "python",
   "nbconvert_exporter": "python",
   "pygments_lexer": "ipython3",
   "version": "3.9.12"
  }
 },
 "nbformat": 4,
 "nbformat_minor": 5
}
